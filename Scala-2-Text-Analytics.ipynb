{
 "cells": [
  {
   "cell_type": "code",
   "execution_count": 63,
   "metadata": {
    "collapsed": false
   },
   "outputs": [
    {
     "name": "stdout",
     "output_type": "stream",
     "text": [
      ":: problems summary ::\n",
      ":::: WARNINGS\n",
      "\tUnable to reparse com.github.alexarchambault.jupyter#jupyter-scala-api_2.11.6;0.2.0-SNAPSHOT from sonatype-snapshots, using Fri May 22 01:44:01 PDT 2015\n",
      "\n",
      "\tproblem while downloading module descriptor: /Users/brian/.m2/repository/com/github/alexarchambault/jupyter/jupyter-scala-api_2.11.6/0.2.0-SNAPSHOT/jupyter-scala-api_2.11.6-0.2.0-SNAPSHOT.pom: no protocol: /Users/brian/.m2/repository/com/github/alexarchambault/jupyter/jupyter-scala-api_2.11.6/0.2.0-SNAPSHOT/jupyter-scala-api_2.11.6-0.2.0-SNAPSHOT.pom (2ms)\n",
      "\n",
      "\tChoosing sonatype-snapshots for com.github.alexarchambault.jupyter#jupyter-scala-api_2.11.6;0.2.0-SNAPSHOT\n",
      "\n",
      "\tUnable to reparse com.github.alexarchambault#ammonite-api_2.11.6;0.3.1-SNAPSHOT from sonatype-snapshots, using Fri May 22 01:13:14 PDT 2015\n",
      "\n",
      "\tChoosing sonatype-snapshots for com.github.alexarchambault#ammonite-api_2.11.6;0.3.1-SNAPSHOT\n",
      "\n",
      "\tUnable to reparse com.github.alexarchambault.jupyter#jupyter-api_2.11;0.2.0-SNAPSHOT from sonatype-snapshots, using Thu May 21 19:38:28 PDT 2015\n",
      "\n",
      "\tChoosing sonatype-snapshots for com.github.alexarchambault.jupyter#jupyter-api_2.11;0.2.0-SNAPSHOT\n",
      "\n",
      "\t\tmodule not found: org.apache.spark#spark-assembly_2.11;1.1.0\n",
      "\n",
      "\t==== local: tried\n",
      "\n",
      "\t  /Users/brian/.ivy2/local/org.apache.spark/spark-assembly_2.11/1.1.0/ivys/ivy.xml\n",
      "\n",
      "\t==== public: tried\n",
      "\n",
      "\t  https://repo1.maven.org/maven2/org/apache/spark/spark-assembly_2.11/1.1.0/spark-assembly_2.11-1.1.0.pom\n",
      "\n",
      "\t==== sonatype-snapshots: tried\n",
      "\n",
      "\t  https://oss.sonatype.org/content/repositories/snapshots/org/apache/spark/spark-assembly_2.11/1.1.0/spark-assembly_2.11-1.1.0.pom\n",
      "\n",
      "\t==== Maven Central: tried\n",
      "\n",
      "\t  https://repo1.maven.org/maven2/org/apache/spark/spark-assembly_2.11/1.1.0/spark-assembly_2.11-1.1.0.pom\n",
      "\n",
      "\t==== Maven Central: tried\n",
      "\n",
      "\t  https://repo1.maven.org/maven2/org/apache/spark/spark-assembly_2.11/1.1.0/spark-assembly_2.11-1.1.0.pom\n",
      "\n",
      "\t==== Maven Central: tried\n",
      "\n",
      "\t  https://repo1.maven.org/maven2/org/apache/spark/spark-assembly_2.11/1.1.0/spark-assembly_2.11-1.1.0.pom\n",
      "\n",
      "\t==== Maven local repo: tried\n",
      "\n",
      "\t  file:/Users/brian/.m2/repository/org/apache/spark/spark-assembly_2.11/1.1.0/spark-assembly_2.11-1.1.0.pom\n",
      "\n"
     ]
    },
    {
     "data": {
      "text/plain": []
     },
     "metadata": {},
     "output_type": "display_data"
    }
   ],
   "source": [
    "load.resolver(\"Maven Central\" at \"https://repo1.maven.org/maven2/\")\n",
    "load.resolver(\"Maven local repo\" at \"file:/Users/brian/.m2/repository\")\n",
    "load.ivy(\"org.apache.spark\" %% \"spark-assembly\" % \"1.1.0\")"
   ]
  },
  {
   "cell_type": "code",
   "execution_count": null,
   "metadata": {
    "collapsed": false
   },
   "outputs": [],
   "source": []
  },
  {
   "cell_type": "code",
   "execution_count": null,
   "metadata": {
    "collapsed": false
   },
   "outputs": [],
   "source": []
  },
  {
   "cell_type": "code",
   "execution_count": 64,
   "metadata": {
    "collapsed": false
   },
   "outputs": [
    {
     "ename": "",
     "evalue": "",
     "output_type": "error",
     "traceback": [
      "Compilation Failed",
      "\u001b[31mMain.scala:41: object apache is not a member of package org",
      "                import org.apache.spark.SparkContext ; import org.apache.spark.SparkContext._ ; val sc = { () =>",
      "                                                                  ^\u001b[0m",
      "\u001b[31mMain.scala:41: object apache is not a member of package org",
      "                import org.apache.spark.SparkContext ; import org.apache.spark.SparkContext._ ; val sc = { () =>",
      "                           ^\u001b[0m",
      "\u001b[31mMain.scala:42: not found: type SparkContext",
      "  new SparkContext(\"local[*]\", \"Intro\") ",
      "      ^\u001b[0m"
     ]
    }
   ],
   "source": [
    "import org.apache.spark.SparkContext\n",
    "import org.apache.spark.SparkContext._\n",
    "val sc = new SparkContext(\"local[*]\", \"Intro\")"
   ]
  },
  {
   "cell_type": "code",
   "execution_count": 65,
   "metadata": {
    "collapsed": false
   },
   "outputs": [
    {
     "data": {
      "text/plain": [
       "defined \u001b[32mfunction \u001b[36mclean\u001b[0m"
      ]
     },
     "metadata": {},
     "output_type": "display_data"
    }
   ],
   "source": [
    "def clean(s: String): String = if (s.endsWith(\".\") || \n",
    "                                   s.endsWith(\",\")) s.substring(0, s.size - 1) else s"
   ]
  },
  {
   "cell_type": "code",
   "execution_count": 66,
   "metadata": {
    "collapsed": false
   },
   "outputs": [
    {
     "ename": "",
     "evalue": "",
     "output_type": "error",
     "traceback": [
      "Compilation Failed",
      "\u001b[31mMain.scala:44: not found: value sc",
      "  sc.textFile(\"sotu/2009-2014-BO.txt\") ",
      "  ^\u001b[0m"
     ]
    }
   ],
   "source": [
    "var lines = sc.textFile(\"sotu/2009-2014-BO.txt\")\n",
    "val wordCountBO = lines\n",
    "  .flatMap(_.split(\" \")\n",
    "    .map(_.toLowerCase.trim)\n",
    "    .map(clean)\n",
    "    .map(word => (word, 1)))\n",
    "  .reduceByKey(_ + _)\n",
    "wordCountBO.count()"
   ]
  },
  {
   "cell_type": "code",
   "execution_count": 67,
   "metadata": {
    "collapsed": false
   },
   "outputs": [
    {
     "ename": "",
     "evalue": "",
     "output_type": "error",
     "traceback": [
      "Compilation Failed",
      "\u001b[31mMain.scala:44: not found: value lines",
      "lines = sc.textFile(\"sotu/2001-2008-GWB.txt\")",
      "^\u001b[0m",
      "\u001b[31mMain.scala:46: not found: value lines",
      "  lines",
      "  ^\u001b[0m"
     ]
    }
   ],
   "source": [
    "lines = sc.textFile(\"sotu/2001-2008-GWB.txt\")\n",
    "val wordCountGWB = lines\n",
    "  .flatMap(_.split(\" \")\n",
    "    .map(_.toLowerCase.trim)\n",
    "    .map(clean)\n",
    "    .map(word => (word, 1)))\n",
    "  .reduceByKey(_ + _)\n",
    "wordCountGWB.count()"
   ]
  },
  {
   "cell_type": "code",
   "execution_count": 68,
   "metadata": {
    "collapsed": false
   },
   "outputs": [
    {
     "ename": "",
     "evalue": "",
     "output_type": "error",
     "traceback": [
      "Compilation Failed",
      "\u001b[31mMain.scala:44: not found: value lines",
      "lines = sc.textFile(\"sotu/1994-2000-WJC.txt\")",
      "^\u001b[0m",
      "\u001b[31mMain.scala:46: not found: value lines",
      "  lines",
      "  ^\u001b[0m"
     ]
    }
   ],
   "source": [
    "lines = sc.textFile(\"sotu/1994-2000-WJC.txt\")\n",
    "val wordCountWJC = lines\n",
    "  .flatMap(_.split(\" \")\n",
    "    .map(_.toLowerCase.trim)\n",
    "    .map(clean)\n",
    "    .map(word => (word, 1)))\n",
    "  .reduceByKey(_ + _)\n",
    "wordCountWJC.count()"
   ]
  },
  {
   "cell_type": "code",
   "execution_count": 69,
   "metadata": {
    "collapsed": false
   },
   "outputs": [
    {
     "ename": "",
     "evalue": "",
     "output_type": "error",
     "traceback": [
      "Compilation Failed",
      "\u001b[31mMain.scala:44: not found: value lines",
      "lines = sc.textFile(\"sotu/1961-1963-JFK.txt\")",
      "^\u001b[0m",
      "\u001b[31mMain.scala:46: not found: value lines",
      "  lines",
      "  ^\u001b[0m"
     ]
    }
   ],
   "source": [
    "lines = sc.textFile(\"sotu/1961-1963-JFK.txt\")\n",
    "val wordCountJFK = lines\n",
    "  .flatMap(_.split(\" \")\n",
    "    .map(_.toLowerCase.trim)\n",
    "    .map(clean)\n",
    "    .map(word => (word, 1)))\n",
    "  .reduceByKey(_ + _)\n",
    "wordCountJFK.count()"
   ]
  },
  {
   "cell_type": "code",
   "execution_count": 70,
   "metadata": {
    "collapsed": false
   },
   "outputs": [
    {
     "ename": "",
     "evalue": "",
     "output_type": "error",
     "traceback": [
      "Compilation Failed",
      "\u001b[31mMain.scala:44: not found: value lines",
      "lines = sc.textFile(\"sotu/1934-1945-FDR.txt\")",
      "^\u001b[0m",
      "\u001b[31mMain.scala:46: not found: value lines",
      "  lines",
      "  ^\u001b[0m"
     ]
    }
   ],
   "source": [
    "lines = sc.textFile(\"sotu/1934-1945-FDR.txt\")\n",
    "val wordCountFDR = lines\n",
    "  .flatMap(_.split(\" \")\n",
    "    .map(_.toLowerCase.trim)\n",
    "    .map(clean)\n",
    "    .map(word => (word, 1)))\n",
    "  .reduceByKey(_ + _)\n",
    "wordCountFDR.count()"
   ]
  },
  {
   "cell_type": "code",
   "execution_count": 71,
   "metadata": {
    "collapsed": false
   },
   "outputs": [
    {
     "ename": "",
     "evalue": "",
     "output_type": "error",
     "traceback": [
      "Compilation Failed",
      "\u001b[31mMain.scala:44: not found: value lines",
      "lines = sc.textFile(\"sotu/1861-1864-AL.txt\")",
      "^\u001b[0m",
      "\u001b[31mMain.scala:46: not found: value lines",
      "  lines",
      "  ^\u001b[0m"
     ]
    }
   ],
   "source": [
    "lines = sc.textFile(\"sotu/1861-1864-AL.txt\")\n",
    "val wordCountAL = lines\n",
    "  .flatMap(_.split(\" \")\n",
    "    .map(_.toLowerCase.trim)\n",
    "    .map(clean)\n",
    "    .map(word => (word, 1)))\n",
    "  .reduceByKey(_ + _)\n",
    "wordCountAL.count()"
   ]
  },
  {
   "cell_type": "code",
   "execution_count": 72,
   "metadata": {
    "collapsed": false
   },
   "outputs": [
    {
     "ename": "",
     "evalue": "",
     "output_type": "error",
     "traceback": [
      "Compilation Failed",
      "\u001b[31mMain.scala:44: not found: value lines",
      "lines = sc.textFile(\"sotu/1790-1796-GW.txt\")",
      "^\u001b[0m",
      "\u001b[31mMain.scala:46: not found: value lines",
      "  lines",
      "  ^\u001b[0m"
     ]
    }
   ],
   "source": [
    "lines = sc.textFile(\"sotu/1790-1796-GW.txt\")\n",
    "val wordCountGW = lines\n",
    "  .flatMap(_.split(\" \")\n",
    "    .map(_.toLowerCase.trim)\n",
    "    .map(clean)\n",
    "    .map(word => (word, 1)))\n",
    "  .reduceByKey(_ + _)\n",
    "wordCountGW.count()"
   ]
  },
  {
   "cell_type": "code",
   "execution_count": 73,
   "metadata": {
    "collapsed": false
   },
   "outputs": [
    {
     "data": {
      "text/plain": [
       "\u001b[36mcommonWords\u001b[0m: \u001b[32mscala.Array[java.lang.String]\u001b[0m = \u001b[33mArray\u001b[0m(\n",
       "  \u001b[32m\"us\"\u001b[0m,\n",
       "  \u001b[32m\"has\"\u001b[0m,\n",
       "  \u001b[32m\"all\"\u001b[0m,\n",
       "  \u001b[32m\"they\"\u001b[0m,\n",
       "  \u001b[32m\"from\"\u001b[0m,\n",
       "  \u001b[32m\"who\"\u001b[0m,\n",
       "  \u001b[32m\"what\"\u001b[0m,\n",
       "  \u001b[32m\"on\"\u001b[0m,\n",
       "  \u001b[32m\"by\"\u001b[0m,\n",
       "  \u001b[32m\"more\"\u001b[0m,\n",
       "  \u001b[32m\"as\"\u001b[0m,\n",
       "  \u001b[32m\"not\"\u001b[0m,\n",
       "  \u001b[32m\"their\"\u001b[0m,\n",
       "  \u001b[32m\"can\"\u001b[0m,\n",
       "\u001b[33m...\u001b[0m"
      ]
     },
     "metadata": {},
     "output_type": "display_data"
    }
   ],
   "source": [
    "val commonWords = Array(\"us\",\"has\",\"all\", \"they\", \"from\", \"who\",\"what\",\"on\",\"by\",\"more\",\"as\",\"not\",\"their\",\"can\",\n",
    "                             \"new\",\"it\",\"but\",\"be\",\"are\",\"--\",\"i\",\"have\",\"this\",\"will\",\"for\",\"with\",\"is\",\"that\",\"in\",\n",
    "                             \"our\",\"we\",\"a\",\"of\",\"to\",\"and\",\"the\",\"that's\",\"or\",\"make\",\"do\",\"you\",\"at\",\"it\\'s\",\"than\",\n",
    "                             \"if\",\"know\",\"last\",\"about\",\"no\",\"just\",\"now\",\"an\",\"because\",\"<p>we\",\"why\",\"we\\'ll\",\"how\",\n",
    "                             \"two\",\"also\",\"every\",\"come\",\"we've\",\"year\",\"over\",\"get\",\"take\",\"one\",\"them\",\"we\\'re\",\"need\",\n",
    "                             \"want\",\"when\",\"like\",\"most\",\"-\",\"been\",\"first\",\"where\",\"so\",\"these\",\"they\\'re\",\"good\",\"would\",\n",
    "                             \"there\",\"should\",\"-->\",\"<!--\",\"up\",\"i\\'m\",\"his\",\"their\",\"which\",\"may\",\"were\",\"such\",\"some\",\n",
    "                             \"those\",\"was\",\"here\",\"she\",\"he\",\"its\",\"her\",\"his\",\"don\\'t\",\"i\\'ve\",\"what\\'s\",\"didn\\'t\",\n",
    "                             \"shouldn\\'t\",\"(applause.)\",\"let\\'s\",\"doesn\\'t\")"
   ]
  },
  {
   "cell_type": "code",
   "execution_count": 74,
   "metadata": {
    "collapsed": false
   },
   "outputs": [
    {
     "ename": "",
     "evalue": "",
     "output_type": "error",
     "traceback": [
      "Compilation Failed",
      "\u001b[31mMain.scala:42: not found: value wordCountBO",
      "  wordCountBO.sortBy(_._2, ascending = false) ",
      "  ^\u001b[0m",
      "\u001b[31mMain.scala:42: not found: value ascending",
      "  wordCountBO.sortBy(_._2, ascending = false) ",
      "                           ^\u001b[0m"
     ]
    }
   ],
   "source": [
    "val wordCountBO1 = wordCountBO.sortBy(_._2, ascending = false)"
   ]
  },
  {
   "cell_type": "code",
   "execution_count": 75,
   "metadata": {
    "collapsed": false
   },
   "outputs": [
    {
     "ename": "",
     "evalue": "",
     "output_type": "error",
     "traceback": [
      "Compilation Failed",
      "\u001b[31mMain.scala:42: not found: value wordCountBO1",
      "wordCountBO1.take(10).foreach(println)",
      "^\u001b[0m"
     ]
    }
   ],
   "source": [
    "wordCountBO1.take(10).foreach(println)"
   ]
  },
  {
   "cell_type": "code",
   "execution_count": 76,
   "metadata": {
    "collapsed": false
   },
   "outputs": [
    {
     "ename": "",
     "evalue": "",
     "output_type": "error",
     "traceback": [
      "Compilation Failed",
      "\u001b[31mMain.scala:44: not found: value wordCountBO1",
      "  wordCountBO1.filter(t => !commonWords.contains(t._1)) ",
      "  ^\u001b[0m"
     ]
    }
   ],
   "source": [
    "val wordCountBOClean = wordCountBO1.filter(t => !commonWords.contains(t._1))"
   ]
  },
  {
   "cell_type": "code",
   "execution_count": 77,
   "metadata": {
    "collapsed": false
   },
   "outputs": [
    {
     "ename": "",
     "evalue": "",
     "output_type": "error",
     "traceback": [
      "Compilation Failed",
      "\u001b[31mMain.scala:42: not found: value wordCountBOClean",
      "wordCountBOClean.count()",
      "^\u001b[0m"
     ]
    }
   ],
   "source": [
    "wordCountBOClean.count()"
   ]
  },
  {
   "cell_type": "code",
   "execution_count": 78,
   "metadata": {
    "collapsed": false
   },
   "outputs": [
    {
     "ename": "",
     "evalue": "",
     "output_type": "error",
     "traceback": [
      "Compilation Failed",
      "\u001b[31mMain.scala:42: not found: value wordCountBOClean",
      "wordCountBOClean.collect().foreach(println)",
      "^\u001b[0m"
     ]
    }
   ],
   "source": [
    "wordCountBOClean.collect().foreach(println)"
   ]
  },
  {
   "cell_type": "code",
   "execution_count": 79,
   "metadata": {
    "collapsed": false
   },
   "outputs": [
    {
     "ename": "",
     "evalue": "",
     "output_type": "error",
     "traceback": [
      "Compilation Failed",
      "\u001b[31mMain.scala:44: not found: value wordCountGWB",
      "  wordCountGWB.filter(t => !commonWords.contains(t._1)) ",
      "  ^\u001b[0m"
     ]
    }
   ],
   "source": [
    "val wordCountGWBClean = wordCountGWB.filter(t => !commonWords.contains(t._1))\n",
    "wordCountGWBClean.sortBy(_._2, ascending = false).take(15).foreach(println)"
   ]
  },
  {
   "cell_type": "code",
   "execution_count": 80,
   "metadata": {
    "collapsed": false
   },
   "outputs": [
    {
     "ename": "",
     "evalue": "",
     "output_type": "error",
     "traceback": [
      "Compilation Failed",
      "\u001b[31mMain.scala:44: not found: value wordCountWJC",
      "  wordCountWJC.filter(t => !commonWords.contains(t._1)) ",
      "  ^\u001b[0m"
     ]
    }
   ],
   "source": [
    "val wordCountWJCClean = wordCountWJC.filter(t => !commonWords.contains(t._1))\n",
    "wordCountWJCClean.sortBy(_._2, ascending = false).take(15).foreach(println)"
   ]
  },
  {
   "cell_type": "code",
   "execution_count": 81,
   "metadata": {
    "collapsed": false
   },
   "outputs": [
    {
     "ename": "",
     "evalue": "",
     "output_type": "error",
     "traceback": [
      "Compilation Failed",
      "\u001b[31mMain.scala:44: not found: value wordCountJFK",
      "  wordCountJFK.filter(t => !commonWords.contains(t._1)) ",
      "  ^\u001b[0m"
     ]
    }
   ],
   "source": [
    "val wordCountJFKClean = wordCountJFK.filter(t => !commonWords.contains(t._1))\n",
    "wordCountJFKClean.sortBy(_._2, ascending = false).take(15).foreach(println)"
   ]
  },
  {
   "cell_type": "code",
   "execution_count": 82,
   "metadata": {
    "collapsed": false
   },
   "outputs": [
    {
     "ename": "",
     "evalue": "",
     "output_type": "error",
     "traceback": [
      "Compilation Failed",
      "\u001b[31mMain.scala:44: not found: value wordCountFDR",
      "  wordCountFDR.filter(t => !commonWords.contains(t._1)) ",
      "  ^\u001b[0m"
     ]
    }
   ],
   "source": [
    "val wordCountFDRClean = wordCountFDR.filter(t => !commonWords.contains(t._1))\n",
    "wordCountFDRClean.sortBy(_._2, ascending = false).take(15).foreach(println)"
   ]
  },
  {
   "cell_type": "code",
   "execution_count": 83,
   "metadata": {
    "collapsed": false
   },
   "outputs": [
    {
     "ename": "",
     "evalue": "",
     "output_type": "error",
     "traceback": [
      "Compilation Failed",
      "\u001b[31mMain.scala:44: not found: value wordCountAL",
      "  wordCountAL.filter(t => !commonWords.contains(t._1)) ",
      "  ^\u001b[0m"
     ]
    }
   ],
   "source": [
    "val wordCountALClean = wordCountAL.filter(t => !commonWords.contains(t._1))\n",
    "wordCountALClean.sortBy(_._2, ascending = false).take(15).foreach(println)"
   ]
  },
  {
   "cell_type": "code",
   "execution_count": 84,
   "metadata": {
    "collapsed": false
   },
   "outputs": [
    {
     "ename": "",
     "evalue": "",
     "output_type": "error",
     "traceback": [
      "Compilation Failed",
      "\u001b[31mMain.scala:44: not found: value wordCountGW",
      "  wordCountGW.filter(t => !commonWords.contains(t._1)) ",
      "  ^\u001b[0m"
     ]
    }
   ],
   "source": [
    "val wordCountGWClean = wordCountGW.filter(t => !commonWords.contains(t._1))\n",
    "wordCountGWClean.sortBy(_._2, ascending = false).take(15).foreach(println)"
   ]
  },
  {
   "cell_type": "code",
   "execution_count": 85,
   "metadata": {
    "collapsed": false
   },
   "outputs": [
    {
     "ename": "",
     "evalue": "",
     "output_type": "error",
     "traceback": [
      "Compilation Failed",
      "\u001b[31mMain.scala:42: not found: value wordCountFDRClean",
      "wordCountFDRClean.subtractByKey(wordCountBOClean).sortBy(_._2, ascending = false).take(15).foreach(println)",
      "^\u001b[0m",
      "\u001b[31mMain.scala:42: not found: value wordCountBOClean",
      "wordCountFDRClean.subtractByKey(wordCountBOClean).sortBy(_._2, ascending = false).take(15).foreach(println)",
      "                                ^\u001b[0m",
      "\u001b[31mMain.scala:42: not found: value ascending",
      "wordCountFDRClean.subtractByKey(wordCountBOClean).sortBy(_._2, ascending = false).take(15).foreach(println)",
      "                                                               ^\u001b[0m"
     ]
    }
   ],
   "source": [
    "wordCountFDRClean.subtractByKey(wordCountBOClean).sortBy(_._2, ascending = false).take(15).foreach(println)"
   ]
  },
  {
   "cell_type": "code",
   "execution_count": 86,
   "metadata": {
    "collapsed": false
   },
   "outputs": [
    {
     "ename": "",
     "evalue": "",
     "output_type": "error",
     "traceback": [
      "Compilation Failed",
      "\u001b[31mMain.scala:42: not found: value wordCountBOClean",
      "wordCountBOClean.subtractByKey(wordCountFDRClean).sortBy(_._2, ascending = false).take(15).foreach(println)",
      "^\u001b[0m",
      "\u001b[31mMain.scala:42: not found: value wordCountFDRClean",
      "wordCountBOClean.subtractByKey(wordCountFDRClean).sortBy(_._2, ascending = false).take(15).foreach(println)",
      "                               ^\u001b[0m",
      "\u001b[31mMain.scala:42: not found: value ascending",
      "wordCountBOClean.subtractByKey(wordCountFDRClean).sortBy(_._2, ascending = false).take(15).foreach(println)",
      "                                                               ^\u001b[0m"
     ]
    }
   ],
   "source": [
    "wordCountBOClean.subtractByKey(wordCountFDRClean).sortBy(_._2, ascending = false).take(15).foreach(println)"
   ]
  },
  {
   "cell_type": "code",
   "execution_count": 87,
   "metadata": {
    "collapsed": false
   },
   "outputs": [
    {
     "ename": "",
     "evalue": "",
     "output_type": "error",
     "traceback": [
      "Compilation Failed",
      "\u001b[31mMain.scala:42: not found: value wordCountBOClean",
      "wordCountBOClean.subtractByKey(wordCountGWBClean).sortBy(_._2, ascending = false).take(15).foreach(println)",
      "^\u001b[0m",
      "\u001b[31mMain.scala:42: not found: value wordCountGWBClean",
      "wordCountBOClean.subtractByKey(wordCountGWBClean).sortBy(_._2, ascending = false).take(15).foreach(println)",
      "                               ^\u001b[0m",
      "\u001b[31mMain.scala:42: not found: value ascending",
      "wordCountBOClean.subtractByKey(wordCountGWBClean).sortBy(_._2, ascending = false).take(15).foreach(println)",
      "                                                               ^\u001b[0m"
     ]
    }
   ],
   "source": [
    "wordCountBOClean.subtractByKey(wordCountGWBClean).sortBy(_._2, ascending = false).take(15).foreach(println)"
   ]
  },
  {
   "cell_type": "code",
   "execution_count": 88,
   "metadata": {
    "collapsed": false
   },
   "outputs": [
    {
     "ename": "",
     "evalue": "",
     "output_type": "error",
     "traceback": [
      "Compilation Failed",
      "\u001b[31mMain.scala:42: not found: value wordCountBOClean",
      "wordCountBOClean.subtractByKey(wordCountGWClean).sortBy(_._2, ascending = false).take(15).foreach(println)",
      "^\u001b[0m",
      "\u001b[31mMain.scala:42: not found: value wordCountGWClean",
      "wordCountBOClean.subtractByKey(wordCountGWClean).sortBy(_._2, ascending = false).take(15).foreach(println)",
      "                               ^\u001b[0m",
      "\u001b[31mMain.scala:42: not found: value ascending",
      "wordCountBOClean.subtractByKey(wordCountGWClean).sortBy(_._2, ascending = false).take(15).foreach(println)",
      "                                                              ^\u001b[0m"
     ]
    }
   ],
   "source": [
    "wordCountBOClean.subtractByKey(wordCountGWClean).sortBy(_._2, ascending = false).take(15).foreach(println)"
   ]
  },
  {
   "cell_type": "code",
   "execution_count": 89,
   "metadata": {
    "collapsed": false
   },
   "outputs": [
    {
     "ename": "",
     "evalue": "",
     "output_type": "error",
     "traceback": [
      "Compilation Failed",
      "\u001b[31mMain.scala:42: not found: value wordCountBOClean",
      "wordCountBOClean.subtractByKey(wordCountALClean).sortBy(_._2, ascending = false).take(15).foreach(println)",
      "^\u001b[0m",
      "\u001b[31mMain.scala:42: not found: value wordCountALClean",
      "wordCountBOClean.subtractByKey(wordCountALClean).sortBy(_._2, ascending = false).take(15).foreach(println)",
      "                               ^\u001b[0m",
      "\u001b[31mMain.scala:42: not found: value ascending",
      "wordCountBOClean.subtractByKey(wordCountALClean).sortBy(_._2, ascending = false).take(15).foreach(println)",
      "                                                              ^\u001b[0m"
     ]
    }
   ],
   "source": [
    "wordCountBOClean.subtractByKey(wordCountALClean).sortBy(_._2, ascending = false).take(15).foreach(println)"
   ]
  },
  {
   "cell_type": "code",
   "execution_count": 90,
   "metadata": {
    "collapsed": false
   },
   "outputs": [
    {
     "ename": "",
     "evalue": "",
     "output_type": "error",
     "traceback": [
      "Compilation Failed",
      "\u001b[31mMain.scala:42: not found: value wordCountWJCClean",
      "wordCountWJCClean.subtractByKey(wordCountALClean).sortBy(_._2, ascending = false).take(15).foreach(println)",
      "^\u001b[0m",
      "\u001b[31mMain.scala:42: not found: value wordCountALClean",
      "wordCountWJCClean.subtractByKey(wordCountALClean).sortBy(_._2, ascending = false).take(15).foreach(println)",
      "                                ^\u001b[0m",
      "\u001b[31mMain.scala:42: not found: value ascending",
      "wordCountWJCClean.subtractByKey(wordCountALClean).sortBy(_._2, ascending = false).take(15).foreach(println)",
      "                                                               ^\u001b[0m"
     ]
    }
   ],
   "source": [
    "wordCountWJCClean.subtractByKey(wordCountALClean).sortBy(_._2, ascending = false).take(15).foreach(println)"
   ]
  },
  {
   "cell_type": "code",
   "execution_count": 91,
   "metadata": {
    "collapsed": false
   },
   "outputs": [
    {
     "ename": "",
     "evalue": "",
     "output_type": "error",
     "traceback": [
      "Compilation Failed",
      "\u001b[31mMain.scala:42: not found: value wordCountGWBClean",
      "wordCountGWBClean.subtractByKey(wordCountALClean).sortBy(_._2, ascending = false).take(15).foreach(println)",
      "^\u001b[0m",
      "\u001b[31mMain.scala:42: not found: value wordCountALClean",
      "wordCountGWBClean.subtractByKey(wordCountALClean).sortBy(_._2, ascending = false).take(15).foreach(println)",
      "                                ^\u001b[0m",
      "\u001b[31mMain.scala:42: not found: value ascending",
      "wordCountGWBClean.subtractByKey(wordCountALClean).sortBy(_._2, ascending = false).take(15).foreach(println)",
      "                                                               ^\u001b[0m"
     ]
    }
   ],
   "source": [
    "wordCountGWBClean.subtractByKey(wordCountALClean).sortBy(_._2, ascending = false).take(15).foreach(println)"
   ]
  },
  {
   "cell_type": "code",
   "execution_count": 92,
   "metadata": {
    "collapsed": false
   },
   "outputs": [
    {
     "ename": "",
     "evalue": "",
     "output_type": "error",
     "traceback": [
      "Compilation Failed",
      "\u001b[31mMain.scala:42: not found: value wordCountALClean",
      "wordCountALClean.subtractByKey(wordCountBOClean).sortBy(_._2, ascending = false).take(15).foreach(println)",
      "^\u001b[0m",
      "\u001b[31mMain.scala:42: not found: value wordCountBOClean",
      "wordCountALClean.subtractByKey(wordCountBOClean).sortBy(_._2, ascending = false).take(15).foreach(println)",
      "                               ^\u001b[0m",
      "\u001b[31mMain.scala:42: not found: value ascending",
      "wordCountALClean.subtractByKey(wordCountBOClean).sortBy(_._2, ascending = false).take(15).foreach(println)",
      "                                                              ^\u001b[0m"
     ]
    }
   ],
   "source": [
    "wordCountALClean.subtractByKey(wordCountBOClean).sortBy(_._2, ascending = false).take(15).foreach(println)"
   ]
  },
  {
   "cell_type": "code",
   "execution_count": 93,
   "metadata": {
    "collapsed": false
   },
   "outputs": [
    {
     "ename": "",
     "evalue": "",
     "output_type": "error",
     "traceback": [
      "Compilation Failed",
      "\u001b[31mMain.scala:42: not found: value wordCountALClean",
      "wordCountALClean.subtractByKey(wordCountWJCClean).sortBy(_._2, ascending = false).take(15).foreach(println)",
      "^\u001b[0m",
      "\u001b[31mMain.scala:42: not found: value wordCountWJCClean",
      "wordCountALClean.subtractByKey(wordCountWJCClean).sortBy(_._2, ascending = false).take(15).foreach(println)",
      "                               ^\u001b[0m",
      "\u001b[31mMain.scala:42: not found: value ascending",
      "wordCountALClean.subtractByKey(wordCountWJCClean).sortBy(_._2, ascending = false).take(15).foreach(println)",
      "                                                               ^\u001b[0m"
     ]
    }
   ],
   "source": [
    "wordCountALClean.subtractByKey(wordCountWJCClean).sortBy(_._2, ascending = false).take(15).foreach(println)"
   ]
  }
 ],
 "metadata": {
  "kernelspec": {
   "display_name": "Scala 2.11",
   "language": "scala211",
   "name": "scala211"
  },
  "language_info": {
   "codemirror_mode": "text/x-scala",
   "file_extension": "scala",
   "mimetype": "text/x-scala",
   "name": "scala211",
   "pygments_lexer": "scala",
   "version": "2.11.6"
  }
 },
 "nbformat": 4,
 "nbformat_minor": 0
}
